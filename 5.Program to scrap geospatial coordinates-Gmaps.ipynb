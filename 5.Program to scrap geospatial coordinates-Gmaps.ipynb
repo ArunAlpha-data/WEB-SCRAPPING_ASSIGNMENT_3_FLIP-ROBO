{
 "cells": [
  {
   "cell_type": "markdown",
   "metadata": {},
   "source": [
    "# 5. Write a program to scrap geospatial coordinates (latitude, longitude) of a city searched on google maps."
   ]
  },
  {
   "cell_type": "code",
   "execution_count": 1,
   "metadata": {},
   "outputs": [
    {
     "name": "stdout",
     "output_type": "stream",
     "text": [
      "Enter the city name: \n",
      "\n",
      "chennai\n",
      "\n",
      "latitude=13.0480438,longitude=79.9288093\n"
     ]
    }
   ],
   "source": [
    "# importing required libraries.\n",
    "import pandas as pd\n",
    "import selenium\n",
    "from selenium import webdriver\n",
    "import re\n",
    "import time\n",
    "\n",
    "#connecting the web driver.\n",
    "driver=webdriver.Chrome(r'C:\\Program Files (x86)\\chromedriver_win32\\chromedriver.exe')\n",
    "\n",
    "#getting the required url\n",
    "driver.get('https://www.google.com/maps')\n",
    "\n",
    "#finding the search bar and filling the city name\n",
    "search_bar = driver.find_element_by_xpath('//input[@class=\"tactile-searchbox-input\"]')    \n",
    "search_bar.clear()                                               \n",
    "search_bar.send_keys(input('Enter the city name: \\n\\n')) \n",
    "\n",
    "#finding the search button and clicking\n",
    "search_button = driver.find_element_by_xpath('//button[@id=\"searchbox-searchbutton\"]')       \n",
    "search_button.click()\n",
    "time.sleep(3)\n",
    "\n",
    "#getting the current url\n",
    "Location=driver.current_url\n",
    "\n",
    "#finding the latitude and longitude using regex\n",
    "coordinates=re.findall(r'@(.*)data',Location)\n",
    "coordinates\n",
    "lat_lon=coordinates[0].split(\",\")\n",
    "lat=lat_lon[0]\n",
    "lon=lat_lon[1]\n",
    "print(\"\\nlatitude={},longitude={}\".format(lat,lon))"
   ]
  },
  {
   "cell_type": "code",
   "execution_count": null,
   "metadata": {},
   "outputs": [],
   "source": []
  }
 ],
 "metadata": {
  "kernelspec": {
   "display_name": "Python 3",
   "language": "python",
   "name": "python3"
  },
  "language_info": {
   "codemirror_mode": {
    "name": "ipython",
    "version": 3
   },
   "file_extension": ".py",
   "mimetype": "text/x-python",
   "name": "python",
   "nbconvert_exporter": "python",
   "pygments_lexer": "ipython3",
   "version": "3.8.3"
  }
 },
 "nbformat": 4,
 "nbformat_minor": 4
}
